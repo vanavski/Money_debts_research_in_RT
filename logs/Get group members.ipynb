{
 "cells": [
  {
   "cell_type": "code",
   "execution_count": 1,
   "metadata": {},
   "outputs": [],
   "source": [
    "import vk"
   ]
  },
  {
   "cell_type": "code",
   "execution_count": 2,
   "metadata": {},
   "outputs": [],
   "source": [
    "class ConfigAPI(object):\n",
    "    __token = None\n",
    "    api = None\n",
    "\n",
    "    #Стартовый обработчик. Подключает TOKEN VK API к приложению\n",
    "    def init(self):\n",
    "        print('Вставьте ссылку в строку браузера для получения токена VK API. ')\n",
    "        print('https://oauth.vk.com/authorize?client_id=7305133&display=page&scope=status,video,photos,friends,wall,notes,groups,docs&response_type=token&v=5.103&state=123456')\n",
    "        print('После скопируйте ссылку из браузера и вставьте сюда')\n",
    "        val = str(input())\n",
    "        self.__get_token_by_link(val) #токен обрабатывается на ошибки в этом методе\n",
    "        self.__vk_api_on() # подключение VK API к системе\n",
    "\n",
    "\n",
    "    def __get_token_by_link(self, str):\n",
    "        arr = str.split('=')\n",
    "        if(len(arr) >= 2):\n",
    "            arr2 = arr[1].split('&')\n",
    "            token = arr2[0]\n",
    "            print(token)\n",
    "            self.__token = token\n",
    "        else:\n",
    "            print('ссылка повреждена, попробуйте еще раз!')\n",
    "            print(' ')\n",
    "            self.init()\n",
    "\n",
    "    def __vk_api_on(self):\n",
    "        token = self.__token\n",
    "        try:\n",
    "            if(token != None):\n",
    "                session = vk.Session(token)\n",
    "                self.api = vk.API(session, v=5.103)\n",
    "\n",
    "                user = self.api.users.get(user_ids=1) #не работает...\n",
    "\n",
    "                print('Токен подключен!')\n",
    "                print(' ')\n",
    "            else:\n",
    "                print('Токен отсутствует, попробуйте еще раз!')\n",
    "                print(' ')\n",
    "                self.init()\n",
    "        except Exception:\n",
    "            print('Токен недействителен или поврежден, попробуйте еще раз')\n",
    "            print(' ')\n",
    "            self.init()"
   ]
  },
  {
   "cell_type": "code",
   "execution_count": 3,
   "metadata": {},
   "outputs": [
    {
     "name": "stdout",
     "output_type": "stream",
     "text": [
      "Вставьте ссылку в строку браузера для получения токена VK API. \n",
      "https://oauth.vk.com/authorize?client_id=7305133&display=page&scope=status,video,photos,friends,wall,notes,groups,docs&response_type=token&v=5.103&state=123456\n",
      "После скопируйте ссылку из браузера и вставьте сюда\n",
      "https://oauth.vk.com/blank.html#access_token=c3270f78eb87520754f9d1f54c2cefdf639fb0c6dadd7d7d33efbb939dfd28244ab78672a45cd57296eaf&expires_in=86400&user_id=599718705&state=123456\n",
      "c3270f78eb87520754f9d1f54c2cefdf639fb0c6dadd7d7d33efbb939dfd28244ab78672a45cd57296eaf\n",
      "Токен подключен!\n",
      " \n"
     ]
    }
   ],
   "source": [
    "c = ConfigAPI()\n",
    "c.init()"
   ]
  },
  {
   "cell_type": "code",
   "execution_count": 2,
   "metadata": {},
   "outputs": [
    {
     "ename": "NameError",
     "evalue": "name 'c' is not defined",
     "output_type": "error",
     "traceback": [
      "\u001b[1;31m---------------------------------------------------------------------------\u001b[0m",
      "\u001b[1;31mNameError\u001b[0m                                 Traceback (most recent call last)",
      "\u001b[1;32m<ipython-input-2-91940620a4b9>\u001b[0m in \u001b[0;36m<module>\u001b[1;34m\u001b[0m\n\u001b[1;32m----> 1\u001b[1;33m \u001b[0mgr\u001b[0m \u001b[1;33m=\u001b[0m \u001b[0mc\u001b[0m\u001b[1;33m.\u001b[0m\u001b[0mapi\u001b[0m\u001b[1;33m.\u001b[0m\u001b[0mgroups\u001b[0m\u001b[1;33m.\u001b[0m\u001b[0mgetMembers\u001b[0m\u001b[1;33m(\u001b[0m\u001b[0mgroup_id\u001b[0m \u001b[1;33m=\u001b[0m \u001b[1;34m'kzngo'\u001b[0m\u001b[1;33m)\u001b[0m\u001b[1;33m\u001b[0m\u001b[1;33m\u001b[0m\u001b[0m\n\u001b[0m",
      "\u001b[1;31mNameError\u001b[0m: name 'c' is not defined"
     ]
    }
   ],
   "source": [
    "gr = c.api.groups.getMembers(group_id = 'kzngo')\n"
   ]
  },
  {
   "cell_type": "code",
   "execution_count": 5,
   "metadata": {},
   "outputs": [
    {
     "data": {
      "text/plain": [
       "1000"
      ]
     },
     "execution_count": 5,
     "metadata": {},
     "output_type": "execute_result"
    }
   ],
   "source": [
    "len(gr['items'])"
   ]
  },
  {
   "cell_type": "code",
   "execution_count": null,
   "metadata": {},
   "outputs": [],
   "source": [
    "gr = c.api.groups.getMembers(group_id = 'kzngo', count = 10)\n",
    "gr"
   ]
  },
  {
   "cell_type": "code",
   "execution_count": 11,
   "metadata": {},
   "outputs": [
    {
     "data": {
      "text/plain": [
       "[{'id': 9239006,\n",
       "  'first_name': 'Макс',\n",
       "  'last_name': 'Браун',\n",
       "  'is_closed': False,\n",
       "  'can_access_closed': True},\n",
       " {'id': 599718705,\n",
       "  'first_name': 'Ne-Fais-Confiance',\n",
       "  'last_name': 'À-Personne',\n",
       "  'is_closed': True,\n",
       "  'can_access_closed': True}]"
      ]
     },
     "execution_count": 11,
     "metadata": {},
     "output_type": "execute_result"
    }
   ],
   "source": [
    "us = c.api.users.get(user_ids = ['maks_braun', '599718705'])\n",
    "us"
   ]
  },
  {
   "cell_type": "markdown",
   "metadata": {},
   "source": [
    "Данные получить скрапингом, если нужно больше данных. Прогружаем всех пользователей группы, копируем хтмл, выбираем все имена и города"
   ]
  },
  {
   "cell_type": "markdown",
   "metadata": {},
   "source": [
    "# CHECK SCRAPING\n",
    "https://www.edureka.co/blog/web-scraping-with-python/\n",
    "\n",
    "https://www.google.ru/search?q=scraping+python&oq=scraping+python&sourceid=chrome&ie=UTF-8\n",
    "\n",
    "\n",
    "Скачиваем тыщу человек через апи, берем все уникальные имена и фамилии\n",
    "Перебираем в поиске всех людей по этим параметрам, скачиваем по тыще человек, добавляем в базу данных\n",
    "\n",
    "После чистим данные на уникальные значения\n",
    "\n",
    "Разобраться, как скачать тыщу людей с хтмл"
   ]
  },
  {
   "cell_type": "code",
   "execution_count": 12,
   "metadata": {},
   "outputs": [],
   "source": [
    "from selenium import webdriver\n",
    "from bs4 import BeautifulSoup\n",
    "import pandas as pd\n",
    "import numpy as np"
   ]
  },
  {
   "cell_type": "code",
   "execution_count": 36,
   "metadata": {},
   "outputs": [
    {
     "name": "stdout",
     "output_type": "stream",
     "text": [
      "[]\n"
     ]
    }
   ],
   "source": [
    "import requests\n",
    "names = ['Виталий']\n",
    "for name in names:\n",
    "    link = 'https://vk.com/search?c%5Bgroup%5D=38959783&c%5Bname%5D=1&c%5Bper_page%5D=40&c%5Bphoto%5D=1&c%5Bq%5D={}&c%5Bsection%5D=people'.format(name)\n",
    "    page = requests.get(link)\n",
    "\n",
    "    soup = BeautifulSoup(page.content, 'html.parser')\n",
    "    k = soup.find_all('div', class_ = 'labeled')\n",
    "    print(k)"
   ]
  },
  {
   "cell_type": "code",
   "execution_count": 42,
   "metadata": {},
   "outputs": [
    {
     "name": "stdout",
     "output_type": "stream",
     "text": [
      "<Response [200]>\n",
      "99\n"
     ]
    }
   ],
   "source": [
    "name = 'Виталий'\n",
    "link = 'https://vk.com/search?c%5Bgroup%5D=38959783&c%5Bname%5D=1&c%5Bper_page%5D=40&c%5Bphoto%5D=1&c%5Bq%5D={}&c%5Bsection%5D=people'.format(name)\n",
    "page = requests.get(link)\n",
    "print(page)\n",
    "soup = BeautifulSoup(page.content, 'html.parser')\n",
    "# print(soup)\n",
    "k = soup.find_all('a', class_ = 'simple_fit_item search_item')\n",
    "print(len(k))"
   ]
  },
  {
   "cell_type": "code",
   "execution_count": null,
   "metadata": {},
   "outputs": [],
   "source": []
  },
  {
   "cell_type": "code",
   "execution_count": 6,
   "metadata": {},
   "outputs": [],
   "source": [
    "with open('labeled name.html', 'r') as f:\n",
    "\n",
    "    contents = f.read()\n",
    "\n",
    "    soup = BeautifulSoup(contents, 'html.parser')\n",
    "    \n",
    "info = soup.find_all('div', class_ = 'info')"
   ]
  },
  {
   "cell_type": "code",
   "execution_count": 7,
   "metadata": {},
   "outputs": [
    {
     "data": {
      "text/html": [
       "<div>\n",
       "<style scoped>\n",
       "    .dataframe tbody tr th:only-of-type {\n",
       "        vertical-align: middle;\n",
       "    }\n",
       "\n",
       "    .dataframe tbody tr th {\n",
       "        vertical-align: top;\n",
       "    }\n",
       "\n",
       "    .dataframe thead th {\n",
       "        text-align: right;\n",
       "    }\n",
       "</style>\n",
       "<table border=\"1\" class=\"dataframe\">\n",
       "  <thead>\n",
       "    <tr style=\"text-align: right;\">\n",
       "      <th></th>\n",
       "      <th>link</th>\n",
       "      <th>name</th>\n",
       "    </tr>\n",
       "  </thead>\n",
       "  <tbody>\n",
       "    <tr>\n",
       "      <th>0</th>\n",
       "      <td>https://vk.com/yurtoff</td>\n",
       "      <td>Игорь Юртаев</td>\n",
       "    </tr>\n",
       "    <tr>\n",
       "      <th>1</th>\n",
       "      <td>https://vk.com/satsura_stas</td>\n",
       "      <td>Стас Сацура</td>\n",
       "    </tr>\n",
       "    <tr>\n",
       "      <th>2</th>\n",
       "      <td>https://vk.com/maks_braun</td>\n",
       "      <td>Макс Браун</td>\n",
       "    </tr>\n",
       "    <tr>\n",
       "      <th>3</th>\n",
       "      <td>https://vk.com/dinar_shaymardanov</td>\n",
       "      <td>Динар Шаймарданов</td>\n",
       "    </tr>\n",
       "    <tr>\n",
       "      <th>4</th>\n",
       "      <td>https://vk.com/barona</td>\n",
       "      <td>Андрей Качерович</td>\n",
       "    </tr>\n",
       "    <tr>\n",
       "      <th>...</th>\n",
       "      <td>...</td>\n",
       "      <td>...</td>\n",
       "    </tr>\n",
       "    <tr>\n",
       "      <th>994</th>\n",
       "      <td>https://vk.com/id107960712</td>\n",
       "      <td>Алсу Султанова</td>\n",
       "    </tr>\n",
       "    <tr>\n",
       "      <th>995</th>\n",
       "      <td>https://vk.com/joseph_adam_jonas_jb</td>\n",
       "      <td>Тимур Неред</td>\n",
       "    </tr>\n",
       "    <tr>\n",
       "      <th>996</th>\n",
       "      <td>https://vk.com/didi_didishka</td>\n",
       "      <td>Диана Анисимова</td>\n",
       "    </tr>\n",
       "    <tr>\n",
       "      <th>997</th>\n",
       "      <td>https://vk.com/id36845703</td>\n",
       "      <td>Венера Газизова</td>\n",
       "    </tr>\n",
       "    <tr>\n",
       "      <th>998</th>\n",
       "      <td>https://vk.com/julia_sergeeva999</td>\n",
       "      <td>Юлия Сергеева</td>\n",
       "    </tr>\n",
       "  </tbody>\n",
       "</table>\n",
       "<p>999 rows × 2 columns</p>\n",
       "</div>"
      ],
      "text/plain": [
       "                                    link               name\n",
       "0                 https://vk.com/yurtoff       Игорь Юртаев\n",
       "1            https://vk.com/satsura_stas        Стас Сацура\n",
       "2              https://vk.com/maks_braun         Макс Браун\n",
       "3      https://vk.com/dinar_shaymardanov  Динар Шаймарданов\n",
       "4                  https://vk.com/barona   Андрей Качерович\n",
       "..                                   ...                ...\n",
       "994           https://vk.com/id107960712     Алсу Султанова\n",
       "995  https://vk.com/joseph_adam_jonas_jb        Тимур Неред\n",
       "996         https://vk.com/didi_didishka    Диана Анисимова\n",
       "997            https://vk.com/id36845703    Венера Газизова\n",
       "998     https://vk.com/julia_sergeeva999      Юлия Сергеева\n",
       "\n",
       "[999 rows x 2 columns]"
      ]
     },
     "execution_count": 7,
     "metadata": {},
     "output_type": "execute_result"
    }
   ],
   "source": [
    "df = pd.DataFrame(columns = ['link', 'name'])\n",
    "\n",
    "for i in range(len(info)):\n",
    "    divs = info[i].find_all('div', class_ = 'labeled')\n",
    "    a_tag = divs[0].find_all('a')\n",
    "    link = a_tag[0].get('href')\n",
    "    name = a_tag[0].text\n",
    "    df = df.append({'link': link, 'name': name}, ignore_index=True)\n",
    "\n",
    "df"
   ]
  },
  {
   "cell_type": "code",
   "execution_count": null,
   "metadata": {},
   "outputs": [],
   "source": [
    "names = []\n",
    "second_name = []\n",
    "length = len(df)\n",
    "for i in range(length):\n",
    "    split = df['name'][i].split(' ')\n",
    "    names.append(split[0])\n",
    "    second_name.append(split[1])\n",
    "\n",
    "names = np.array(names)\n",
    "second_name = np.array(second_name)\n",
    "\n",
    "print(len(np.unique(names)))\n",
    "\n",
    "print(len(np.unique(second_name)))"
   ]
  },
  {
   "cell_type": "markdown",
   "metadata": {},
   "source": [
    "find methods of classes\n",
    "how to get text into a tags"
   ]
  },
  {
   "cell_type": "code",
   "execution_count": null,
   "metadata": {},
   "outputs": [],
   "source": []
  },
  {
   "cell_type": "code",
   "execution_count": null,
   "metadata": {},
   "outputs": [],
   "source": []
  }
 ],
 "metadata": {
  "kernelspec": {
   "display_name": "Python 3",
   "language": "python",
   "name": "python3"
  },
  "language_info": {
   "codemirror_mode": {
    "name": "ipython",
    "version": 3
   },
   "file_extension": ".py",
   "mimetype": "text/x-python",
   "name": "python",
   "nbconvert_exporter": "python",
   "pygments_lexer": "ipython3",
   "version": "3.7.6"
  }
 },
 "nbformat": 4,
 "nbformat_minor": 4
}
